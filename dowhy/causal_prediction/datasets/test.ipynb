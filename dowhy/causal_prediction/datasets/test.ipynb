{
 "cells": [
  {
   "cell_type": "code",
   "execution_count": 9,
   "metadata": {},
   "outputs": [
    {
     "name": "stderr",
     "output_type": "stream",
     "text": [
      "g:\\04\\thesis\\dowhy\\.venv\\Lib\\site-packages\\tqdm\\auto.py:21: TqdmWarning: IProgress not found. Please update jupyter and ipywidgets. See https://ipywidgets.readthedocs.io/en/stable/user_install.html\n",
      "  from .autonotebook import tqdm as notebook_tqdm\n"
     ]
    }
   ],
   "source": [
    "import tensorflow_datasets as tfds\n",
    "import torch\n",
    "import numpy as np"
   ]
  },
  {
   "cell_type": "code",
   "execution_count": 2,
   "metadata": {},
   "outputs": [],
   "source": [
    "# Load the dataset using TensorFlow Datasets\n",
    "dataset, info = tfds.load('smallnorb', data_dir='data', download=False, split='train', with_info=True)"
   ]
  },
  {
   "cell_type": "code",
   "execution_count": 9,
   "metadata": {},
   "outputs": [
    {
     "name": "stdout",
     "output_type": "stream",
     "text": [
      "Images shape: torch.Size([24300, 96, 96, 1])\n",
      "Labels shape: torch.Size([24300])\n",
      "Lightings shape: torch.Size([24300])\n",
      "Azimths shape: torch.Size([24300])\n"
     ]
    }
   ],
   "source": [
    "# Extract images and labels\n",
    "images = []\n",
    "labels = []\n",
    "lightings = []\n",
    "azimuths = []\n",
    "for example in dataset:\n",
    "    images.append(example['image'].numpy())\n",
    "    labels.append(example['label_category'].numpy())\n",
    "    lightings.append(example['label_lighting'].numpy())\n",
    "    azimuths.append(example['label_azimuth'].numpy())\n",
    "\n",
    "# Convert lists to numpy arrays\n",
    "images = np.array(images)\n",
    "labels = np.array(labels)\n",
    "lightings = np.array(lightings)\n",
    "azimths = np.array(azimuths)\n",
    "\n",
    "# Convert to PyTorch tensors\n",
    "images_tensor = torch.tensor(images, dtype=torch.float32)\n",
    "labels_tensor = torch.tensor(labels, dtype=torch.long)\n",
    "lightings_tensor = torch.tensor(lightings, dtype=torch.long)\n",
    "azimuths_tensor = torch.tensor(azimths, dtype=torch.long)\n",
    "\n",
    "# Print the shape of the tensors\n",
    "print(\"Images shape:\", images_tensor.shape)\n",
    "print(\"Labels shape:\", labels_tensor.shape)\n",
    "print(\"Lightings shape:\", lightings_tensor.shape)\n",
    "print(\"Azimths shape:\", azimuths_tensor.shape)"
   ]
  },
  {
   "cell_type": "code",
   "execution_count": 10,
   "metadata": {},
   "outputs": [
    {
     "name": "stdout",
     "output_type": "stream",
     "text": [
      "tensor(2) tensor(11) tensor(4)\n",
      "tensor(0) tensor(11) tensor(0)\n",
      "tensor(5) tensor(7) tensor(2)\n",
      "tensor(3) tensor(17) tensor(1)\n",
      "tensor(5) tensor(13) tensor(0)\n",
      "tensor(1) tensor(10) tensor(0)\n",
      "tensor(2) tensor(16) tensor(3)\n",
      "tensor(5) tensor(10) tensor(3)\n",
      "tensor(1) tensor(10) tensor(2)\n",
      "tensor(4) tensor(2) tensor(1)\n",
      "tensor(4) tensor(9) tensor(4)\n",
      "tensor(2) tensor(12) tensor(0)\n",
      "tensor(3) tensor(7) tensor(3)\n",
      "tensor(5) tensor(1) tensor(1)\n",
      "tensor(3) tensor(3) tensor(2)\n",
      "tensor(5) tensor(11) tensor(2)\n",
      "tensor(1) tensor(4) tensor(4)\n",
      "tensor(0) tensor(16) tensor(1)\n",
      "tensor(4) tensor(12) tensor(4)\n",
      "tensor(1) tensor(15) tensor(4)\n"
     ]
    }
   ],
   "source": [
    "for i in range(20):\n",
    "    print(lightings_tensor[i], azimuths_tensor[i], labels_tensor[i])"
   ]
  },
  {
   "cell_type": "code",
   "execution_count": 11,
   "metadata": {},
   "outputs": [],
   "source": [
    "from torch.utils.data import TensorDataset"
   ]
  },
  {
   "cell_type": "code",
   "execution_count": 12,
   "metadata": {},
   "outputs": [],
   "source": [
    "dt = TensorDataset(images_tensor, labels_tensor, lightings_tensor)"
   ]
  },
  {
   "cell_type": "code",
   "execution_count": 1,
   "metadata": {},
   "outputs": [],
   "source": [
    "from torchvision.datasets import MNIST"
   ]
  },
  {
   "cell_type": "code",
   "execution_count": 8,
   "metadata": {},
   "outputs": [
    {
     "data": {
      "text/plain": [
       "10000"
      ]
     },
     "execution_count": 8,
     "metadata": {},
     "output_type": "execute_result"
    }
   ],
   "source": [
    "ds = MNIST('data', download=False, train=False)\n",
    "len(ds)"
   ]
  },
  {
   "cell_type": "code",
   "execution_count": 16,
   "metadata": {},
   "outputs": [],
   "source": [
    "dataset, info = tfds.load('smallnorb', data_dir='data', download=False, split='train', with_info=True)"
   ]
  },
  {
   "cell_type": "code",
   "execution_count": 17,
   "metadata": {},
   "outputs": [
    {
     "data": {
      "text/plain": [
       "24300"
      ]
     },
     "execution_count": 17,
     "metadata": {},
     "output_type": "execute_result"
    }
   ],
   "source": [
    "len(dataset)"
   ]
  }
 ],
 "metadata": {
  "kernelspec": {
   "display_name": ".venv",
   "language": "python",
   "name": "python3"
  },
  "language_info": {
   "codemirror_mode": {
    "name": "ipython",
    "version": 3
   },
   "file_extension": ".py",
   "mimetype": "text/x-python",
   "name": "python",
   "nbconvert_exporter": "python",
   "pygments_lexer": "ipython3",
   "version": "3.11.9"
  }
 },
 "nbformat": 4,
 "nbformat_minor": 2
}
